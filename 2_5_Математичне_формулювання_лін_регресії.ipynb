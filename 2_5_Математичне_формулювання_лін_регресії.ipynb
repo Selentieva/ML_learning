{
  "nbformat": 4,
  "nbformat_minor": 0,
  "metadata": {
    "colab": {
      "provenance": []
    },
    "kernelspec": {
      "name": "python3",
      "display_name": "Python 3"
    },
    "language_info": {
      "name": "python"
    }
  },
  "cells": [
    {
      "cell_type": "markdown",
      "source": [
        "Лінійна регресія — це статистичний метод, що використовується для моделювання залежності між однією або кількома незалежними змінними (пояснювальними змінними) та залежною змінною (цільовою змінною). Цей метод є основним у машинному навчанні для прогнозування та аналізу даних. Ось основні математичні компоненти лінійної регресії:\n",
        "\n",
        "# Формулювання задачі лінійної регресії\n",
        "\n",
        "Математично, лінійна регресія виражається через рівняння:\n",
        "$$ y = \\theta_0 + \\theta_1 x_1 + \\theta_2 x_2 + ... + \\theta_n x_n + \\epsilon $$\n",
        "де:\n",
        "- $ y $ — залежна змінна, яку ми намагаємося передбачити;\n",
        "- $ x_1, x_2, ..., x_n $ — незалежні змінні (перемінні, за допомогою яких ми робимо прогноз);\n",
        "- $ \\theta_0, \\theta_1, ..., \\theta_n $ — параметри моделі, які необхідно оцінити;\n",
        "- $ \\epsilon $ — термін похибки, який враховує будь-яку помилку або невизначеність в моделі.\n",
        "\n",
        "![](https://miro.medium.com/v2/resize:fit:1400/format:webp/1*hyLYndpTh6g5C8RE-dD7_Q.png)\n",
        "\n",
        "## Функція гіпотези (Hypothesis Function)\n",
        "\n",
        "Функція гіпотези в лінійній регресії описує припущення про форму залежності між незалежними і залежною змінними. Вона визначається як:\n",
        "$$ h_\\theta(x) = \\theta_0 + \\theta_1 x_1 + \\theta_2 x_2 + ... + \\theta_n x_n $$\n",
        "де $ h_\\theta(x) $ — прогнозоване значення залежної змінної для даного набору вхідних значень $ x $ та параметрів $ \\theta $.\n",
        "\n",
        "## Функція втрат (Loss Function)\n",
        "\n",
        "Функція втрат вимірює, наскільки добре функція гіпотези відповідає навчальним даним. Вона оцінює різницю між прогнозованими значеннями моделі та актуальними даними. У лінійній регресії зазвичай використовується функція втрат суми квадратів різниці:\n",
        "\n",
        "$$ L(\\theta) = \\frac{1}{2m} \\sum_{i=1}^m (h_\\theta(x^{(i)}) - y^{(i)})^2\n",
        "\\\\\n",
        "= \\frac{1}{2m} [(h_\\theta(x^{(1)}) - y^{(1)})^2 + (h_\\theta(x^{(2)}) - y^{(2)})^2 + ... + (h_\\theta(x^{(m)}) - y^{(m)})^2]   $$\n",
        "\n",
        "де $ m $ — кількість точок даних, $ x^{(i)} $ — вектор вхідних значень i-тої точки даних, а $ y^{(i)} $ — фактичне значення залежної змінної для i-тої точки даних.\n",
        "\n"
      ],
      "metadata": {
        "id": "oTckTwJtqAkT"
      }
    },
    {
      "cell_type": "code",
      "source": [
        "average_error = 10\n",
        "m1 = 100\n",
        "small_data_error = 10 * m1\n",
        "m2 = 1000\n",
        "big_data_error = 10 * m2\n",
        "small_data_error, big_data_error"
      ],
      "metadata": {
        "colab": {
          "base_uri": "https://localhost:8080/"
        },
        "id": "53HhTE50E8ky",
        "outputId": "5f08891b-c7f0-4ccd-9f02-2ba5922d5f3c"
      },
      "execution_count": null,
      "outputs": [
        {
          "output_type": "execute_result",
          "data": {
            "text/plain": [
              "(1000, 10000)"
            ]
          },
          "metadata": {},
          "execution_count": 50
        }
      ]
    },
    {
      "cell_type": "code",
      "source": [
        "# if we divide on m\n",
        "small_data_error/m1, big_data_error/m2"
      ],
      "metadata": {
        "colab": {
          "base_uri": "https://localhost:8080/"
        },
        "id": "na8O-KrzFGGI",
        "outputId": "892dec05-dc7e-48f3-b356-6623983241ba"
      },
      "execution_count": null,
      "outputs": [
        {
          "output_type": "execute_result",
          "data": {
            "text/plain": [
              "(10.0, 10.0)"
            ]
          },
          "metadata": {},
          "execution_count": 51
        }
      ]
    },
    {
      "cell_type": "markdown",
      "source": [
        "\n",
        "\n",
        "## Матрична нотація (Matrix Notation)\n",
        "Для обробки кількох змінних та точок даних ми використовуємо матричну нотацію:\n",
        "- $ X $ — це матриця дизайну (design matrix), яка містить вхідні характеристики. Кожен рядок відповідає точці даних, а кожен стовпець — характеристиці. Додається стовпець одиниць для перехоплення $ \\theta_0 $.\n",
        "- $ y $ — це вектор спостережуваних значень залежної змінної.\n",
        "- $ \\theta $ — це вектор коефіцієнтів, включаючи перехоплення.\n",
        "\n",
        "Рівняння моделі, використовуючи матричну нотацію, є:\n",
        "$$ y = X \\theta + \\epsilon $$\n",
        "\n",
        "При цьому функція втрат матиме наступний вигляд у матричній нотації:\n",
        "$$ L = (y - X \\theta)^T (y - X \\theta) $$\n",
        "\n",
        "\n",
        "![](https://miro.medium.com/v2/resize:fit:4800/format:webp/1*qBCYkO1Al0vj1s3QvqdhSA.png)"
      ],
      "metadata": {
        "id": "PN4asA0npzqf"
      }
    },
    {
      "cell_type": "code",
      "source": [
        "import numpy as np\n",
        "\n",
        "err = np.array([0.1, 0.2, 0.3])\n",
        "np.dot(err,err)"
      ],
      "metadata": {
        "colab": {
          "base_uri": "https://localhost:8080/"
        },
        "id": "-RoCb6TuGWUG",
        "outputId": "80d2190c-0452-48a1-b5e6-31d90bb4acde"
      },
      "execution_count": null,
      "outputs": [
        {
          "output_type": "execute_result",
          "data": {
            "text/plain": [
              "0.14"
            ]
          },
          "metadata": {},
          "execution_count": 52
        }
      ]
    },
    {
      "cell_type": "markdown",
      "source": [
        "**НАША ЗАДАЧА - МІНІМІЗУВАТИ ФУНКЦІЮ ВТРАТ**\n",
        "Ми прагнемо мінімізувати суму квадратів резидуалів, що є квадратною різницею між спостережуваними значеннями та тими, що передбачені моделлю.\n"
      ],
      "metadata": {
        "id": "-ANNwj5L0DsH"
      }
    },
    {
      "cell_type": "markdown",
      "source": [
        "# Припущення лін. регресії\n",
        "\n",
        "Цей метод має кілька ключових припущень, кожне з яких спрощує моделювання і дозволяє використовувати лінійні алгебраїчні методи для знаходження рішень. Припущення наступні:\n",
        "\n",
        "## Незалежність спостережень\n",
        "Всі спостереження є незалежними одне від одного.\n",
        "\n",
        "## Лінійний звʼязок між залежною і незалежними змінними\n",
        "\n",
        "Це припущення, що залежна змінна $ Y $ є лінійною функцією незалежних змінних $ X $ плюс випадкова помилка $ \\epsilon $:\n",
        "\n",
        "$$ Y = \\theta_0 + \\theta_1X_1 + \\theta_2X_2 + \\dots + \\theta_nX_n + \\epsilon $$\n",
        "\n",
        "де $ \\theta_i $ є параметрами моделі, які потрібно оцінити.\n",
        "\n",
        "**Чому важливо**: Лінійність гарантує, що залежність між змінними можна описати прямою лінією (або гіперплощиною в багатовимірному просторі), що спрощує аналіз та інтерпретацію результатів.\n",
        "\n",
        "## Нормальність залишків\n",
        "\n",
        "Помилки регресії (резидуали) $ \\epsilon $ мають нормальний розподіл. Це припущення особливо важливе для оцінювання інтервалів довіри та проведення статистичних тестів на коефіцієнти регресії.\n",
        "\n",
        "**Чому важливо**: Нормальний розподіл резидуалів дозволяє використовувати методи теорії ймовірностей для роботи з інтервалами довіри та гіпотезами про параметри моделі.\n",
        "\n",
        "## Постійна дисперсія (гомоскедастичність) залишків\n",
        "\n",
        "Гомоскедастичність означає, що дисперсія резидуалів постійна і не залежить від значення незалежних змінних. Іншими словами, незалежно від значення прогнозованих змінних, розкид (варіативність) помилок моделі залишається константним.\n",
        "\n",
        "є незміщеними та мають мінімально можливу дисперсію. Коли дисперсія резидуалів не є сталою (тобто присутня гетероскедастичність), оцінки коефіцієнтів регресії можуть бути неефективними, що впливає на точність стандартних помилок та довірчих інтервалів.\n",
        "\n",
        "## Чому ці припущення є важливими\n",
        "\n",
        "Ці припущення важливі з кількох причин:\n",
        "\n",
        "1. **Точність оцінок**: Порушення припущення нормальності, постійної дисперсії, або лінійності може призвести до неправильних оцінок параметрів. Наприклад, якщо помилки не є нормально розподіленими, стандартні тести (такі як t-тест або F-тест) для оцінки значущості коефіцієнтів можуть бути недійсними.\n",
        "\n",
        "2. **Застосовність статистичних методів**: Багато статистичних методів, які використовуються для аналізу результатів лінійної регресії, базуються на цих припущеннях. Порушення припущень може призвести до того, що методи, такі як оцінка мінімальних квадратів, не будуть найкращими або оптимальними оцінками.\n",
        "\n",
        "### Як перевіряти ці припущення\n",
        "\n",
        "- **Лінійність**: Візуалізація даних і резидуалів може допомогти визначити, чи є залежності між змінними лінійними. Нелінійність можна виявити, якщо графік резидуалів показує певні візерунки або систематичні відхилення.\n",
        "\n",
        "- **Нормальність резидуалів**: Може бути перевірена за допомогою графіка квантиль-квантиль (Q-Q plot) або тестів нормальності, таких як тест Шапіро-Вілка.\n",
        "\n",
        "- **Постійна дисперсія (гомоскедастичність)**: Візуалізація резидуалів проти прогнозованих значень може допомогти ідентифікувати гетероскедастичність. Якщо варіативність резидуалів змінюється з рівнем прогнозованих значень, то припущення порушене.\n",
        "\n",
        "## Приклади лінійності і гомоскедастичності на графіках\n",
        "![](https://miro.medium.com/v2/resize:fit:1134/1*VeD5froJUgToUg5j9kRlSA.gif)\n"
      ],
      "metadata": {
        "id": "3OWSQwAs2_4s"
      }
    },
    {
      "cell_type": "markdown",
      "source": [
        "# Метод найменших квадратів (Least Squares Method)\n",
        "\n",
        "Метод найменших квадратів — це статистичний метод, використовуваний для знаходження значень параметрів $ \\theta $, які мінімізують суму квадратів різниць між спостережуваними та прогнозованими значеннями залежної змінної, визначену функцією втрат. Цей метод веде до формування нормальних рівнянь:\n",
        "$$ X^T X \\theta = X^T y $$\n",
        "де $ X $ — матриця дизайну, а $ y $ — вектор спостережуваних значень. Розв'язуючи це рівняння, можна отримати оптимальні значення $ \\theta $, які мінімізують функцію втрат.\n",
        "\n",
        "Ця пояснення стане фундаментом для глибшого розуміння лінійної регресії перед детальним вивченням методів її реалізації, таких як вирішення нормальних рівнянь.\n",
        "\n",
        "### Розкладання $ L $\n",
        "\n",
        "Формулу функції втрат можна розкласти, використовуючи правила множення матриць:\n",
        "$ L = (y - X \\theta)^T (y - X \\theta) = (y^T - \\theta^T X^T)(y - X \\theta) $\n",
        "\n",
        "Після розкладання отримуємо:\n",
        "$ L = y^T y - y^T X \\theta - \\theta^T X^T y + \\theta^T X^T X \\theta $\n",
        "\n",
        "Оскільки $ y^T X \\theta $ є скаляром, він дорівнює своєму транспонованому виразу $ \\theta^T X^T y $, тому:\n",
        "$ L = y^T y - 2 \\theta^T X^T y + \\theta^T X^T X \\theta $\n",
        "\n",
        "### Похідна від $ L $\n",
        "\n",
        "Щоб знайти коефіцієнти, які мінімізують $ L $, потрібно взяти похідну $ L $ по $ \\theta $ та прирівняти її до нуля:\n",
        "1. **Похідна першого терміну $ y^T y $**:\n",
        "   - $ y^T y $ є константою відносно $ \\theta $, тому її похідна дорівнює 0.\n",
        "\n",
        "2. **Похідна другого терміну $ -2 \\theta^T X^T y $**:\n",
        "   - Похідна від $ \\theta^T X^T y $ по $ \\theta $ є $ X^T y $, бо $ X^T y $ є константою відносно $ \\theta $. Таким чином, похідна всього терміну становить $ -2 X^T y $.\n",
        "\n",
        "3. **Похідна третього терміну $ \\theta^T X^T X \\theta $**:\n",
        "   - Цей термін є квадратичною формою по $ \\theta $. Похідна квадратичної форми $ \\theta^T A \\theta $ (де $ A $ є симетричною матрицею, тут $ X^T X $) по $ \\theta $ є $ 2A\\theta $. Тому похідна дорівнює $ 2X^T X \\theta $.\n",
        "\n",
        "### Прирівнювання похідної до нуля\n",
        "\n",
        "Комбінуючи ці похідні, градієнт $ L $ є:\n",
        "$$ \\frac{\\partial L}{\\partial \\theta} = 0 - 2X^T y + 2X^T X \\theta $$\n",
        "\n",
        "Прирівнюючи цей градієнт до нуля для мінімізації, ми отримуємо:\n",
        "$$ -2X^T y + 2X^T X \\theta = 0 $$\n",
        "\n",
        "Спрощуючи, ми приходимо до нормального рівняння:\n",
        "$$ X^T X \\theta = X^T y $$\n",
        "\n",
        "\n",
        "### Розв'язання для коефіцієнтів (Solving for Coefficients)\n",
        "За умови, що $ X^T X $ є оборотною, рішення для $ \\theta $ є:\n",
        "$$ \\theta = (X^T X)^{-1} X^T y $$\n",
        "Це рівняння дає значення коефіцієнтів, які найкраще узгоджують нашу модель з даними, мінімізуючи суму квадратних різниць.\n",
        "\n",
        "### Підсумок:\n",
        "- **Матриця $ X $**: Містить дані характеристик з додатковим стовпцем для терміну перехоплення.\n",
        "- **Вектор $ y $**: Містить спостережувані значення залежної змінної.\n",
        "- **Вектор $ \\theta $**: Коефіцієнти, які ми розв'язуємо.\n",
        "- **$ X^T X $**: Транспонована $ X $, помножена на $ X $.\n",
        "- **$ X^T y $**: Транспонована $ X $, помножена на вектор $ y $.\n",
        "\n",
        "Розв'язуючи $ \\theta = (X^T X)^{-1} X^T y $, ми знаходимо значення $ \\theta $, які мінімізують функцію втрат $ L $, тим самим найкраще узгоджуючи лінію з даними у рамках лінійної регресії. Цей метод забезпечує пряме, закрите рішення для коефіцієнтів.\n",
        "\n",
        "На Python це виглядає максимально просто:\n",
        "\n",
        "\n"
      ],
      "metadata": {
        "id": "t-qe547g2-4A"
      }
    },
    {
      "cell_type": "code",
      "source": [
        "import numpy as np\n",
        "import matplotlib.pyplot as plt\n",
        "from sklearn.datasets import make_regression\n",
        "\n",
        "# Створення синтетичного набору даних\n",
        "bias = 4\n",
        "X, y, coefficients = make_regression(n_samples=100, n_features=1, bias=bias, noise=20, coef=True, random_state=42)"
      ],
      "metadata": {
        "id": "AWLa11eB5SZy"
      },
      "execution_count": null,
      "outputs": []
    },
    {
      "cell_type": "code",
      "source": [
        "def normal_equations(X,y):\n",
        "    \"\"\"Computes the closed-form solution to linear regression\"\"\"\n",
        "    theta = np.linalg.inv(X.T.dot(X)).dot(X.T).dot(y)\n",
        "    return theta"
      ],
      "metadata": {
        "id": "XERT33X65CWc"
      },
      "execution_count": null,
      "outputs": []
    },
    {
      "cell_type": "code",
      "source": [
        "# Додаємо колонку одиничок аби задачи bias терм (константу в моделі регресії)\n",
        "X_with_intercept = np.c_[np.ones((X.shape[0], 1)), X]\n",
        "X[:3], X_with_intercept[:3]"
      ],
      "metadata": {
        "id": "OCq3N6J28_ea",
        "colab": {
          "base_uri": "https://localhost:8080/"
        },
        "outputId": "74a43278-1cfc-4676-e411-bbbe345dec7d"
      },
      "execution_count": null,
      "outputs": [
        {
          "output_type": "execute_result",
          "data": {
            "text/plain": [
              "(array([[ 0.93128012],\n",
              "        [ 0.08704707],\n",
              "        [-1.05771093]]),\n",
              " array([[ 1.        ,  0.93128012],\n",
              "        [ 1.        ,  0.08704707],\n",
              "        [ 1.        , -1.05771093]]))"
            ]
          },
          "metadata": {},
          "execution_count": 55
        }
      ]
    },
    {
      "cell_type": "code",
      "source": [
        "MNK_coefs = normal_equations(X_with_intercept, y)"
      ],
      "metadata": {
        "id": "R67ThKkzAsDC"
      },
      "execution_count": null,
      "outputs": []
    },
    {
      "cell_type": "code",
      "source": [
        "MNK_coefs"
      ],
      "metadata": {
        "id": "D1ywVN4a9JmF",
        "colab": {
          "base_uri": "https://localhost:8080/"
        },
        "outputId": "e86756c3-a091-4d0a-a7b9-9adf48800298"
      },
      "execution_count": null,
      "outputs": [
        {
          "output_type": "execute_result",
          "data": {
            "text/plain": [
              "array([ 6.33023064, 47.13323967])"
            ]
          },
          "metadata": {},
          "execution_count": 57
        }
      ]
    },
    {
      "cell_type": "code",
      "source": [
        "np.dot(X_with_intercept[0], MNK_coefs)"
      ],
      "metadata": {
        "colab": {
          "base_uri": "https://localhost:8080/"
        },
        "id": "B4R35wdy8Oak",
        "outputId": "d762dd40-b169-4ad7-cdbc-69874dec025f"
      },
      "execution_count": null,
      "outputs": [
        {
          "output_type": "execute_result",
          "data": {
            "text/plain": [
              "50.22447969492125"
            ]
          },
          "metadata": {},
          "execution_count": 58
        }
      ]
    },
    {
      "cell_type": "code",
      "source": [
        "predictions_MNK = np.dot(X_with_intercept, MNK_coefs)"
      ],
      "metadata": {
        "id": "CD2__Jqe_JMz"
      },
      "execution_count": null,
      "outputs": []
    },
    {
      "cell_type": "code",
      "source": [
        "predictions_MNK[:3], y[:3]"
      ],
      "metadata": {
        "id": "LJSGLRenAyN1",
        "colab": {
          "base_uri": "https://localhost:8080/"
        },
        "outputId": "86ec675c-5e89-45bb-c322-7c3b86dc23a6"
      },
      "execution_count": null,
      "outputs": [
        {
          "output_type": "execute_result",
          "data": {
            "text/plain": [
              "(array([ 50.22447969,  10.43304097, -43.52311207]),\n",
              " array([ 66.687202  , -19.76398073, -21.68676582]))"
            ]
          },
          "metadata": {},
          "execution_count": 60
        }
      ]
    },
    {
      "cell_type": "code",
      "source": [
        "# Візуалізація результатів\n",
        "plt.figure(figsize=(10, 6))\n",
        "plt.scatter(X[:, 0], y, color='blue', label='Data points')\n",
        "plt.plot(X[:, 0], predictions_MNK, color='red', label='MNK')\n",
        "plt.xlabel('Значення змінної')\n",
        "plt.ylabel('Цільове значення')\n",
        "plt.legend()\n",
        "plt.grid(True)\n",
        "plt.show()"
      ],
      "metadata": {
        "id": "7tn9BM_J_WuZ",
        "colab": {
          "base_uri": "https://localhost:8080/",
          "height": 542
        },
        "outputId": "afd9b0fe-3772-44d5-ea48-1e53950602bd"
      },
      "execution_count": null,
      "outputs": [
        {
          "output_type": "display_data",
          "data": {
            "text/plain": [
              "<Figure size 1000x600 with 1 Axes>"
            ],
            "image/png": "[encoded data removed]"
          },
          "metadata": {}
        }
      ]
    },
    {
      "cell_type": "markdown",
      "source": [
        "# Недоліки МНК\n",
        "Метод найменших квадратів (МНК) є одним з найпопулярніших підходів до оцінки параметрів у лінійній регресії. Однак, незважаючи на його широке використання та математичну зручність, у МНК є ряд обмежень та недоліків, які можуть вплинути на ефективність та адекватність моделі, особливо коли деякі з основних припущень порушуються:\n",
        "\n",
        "- **Пошук оберненої матриці — складна операція з кубічною складністю** від кількості ознак. Якщо у вибірці тисячі ознак, то обчислення можуть стати занадто трудомісткими. Розв'язувати цю проблему можна шляхом використання чисельних методів оптимізації, наприклад, за допомогою методу градієнтного спуску. Але тоді чому його вже не використовувати для розвʼязку безпосередньо задачі :)\n",
        "\n",
        "- **Матриця ознак може бути виродженою** (визначник дорівнює 0, означає, що немає оберненої матриці). Це відбувається у випадку мультиколінеарності ознак (можливість визначити одну змінну через іншу). Це призводить до великих стандартних помилок оцінок коефіцієнтів і може зробити окремі змінні статистично не значущими, хоча вони насправді є важливими. Це заважає сходитись і методі градієнтного спуску, але у випадку з МНК метод взагалі не працює.\n",
        "\n",
        "- **Пошук аналітичного рішення може бути трудомістким**, за фактом це просто тільки для кількох простих алгоритмів. Є більш універсальний спосіб знайти мінімум функції витрат - *метод оптимізації \"градієнтний спуск\".\n"
      ],
      "metadata": {
        "id": "iMCiidolzNzN"
      }
    },
    {
      "cell_type": "markdown",
      "source": [
        "# Аналіз якості регресійної моделі\n",
        "\n",
        "Розглянемо кілька стандартних метрик і методів для оцінки якості моделей регресії:\n",
        "\n",
        "## 1. Коефіцієнт детермінації (R²)\n",
        "\n",
        "$ R^2 $ є мірою частки дисперсії залежної змінної, яку можна передбачити за допомогою незалежних змінних. Цей показник надає інформацію про якість апроксимації та тому є показником того, наскільки добре модель зможе передбачити значення невідомих зразків. Формула для $ R^2 $ має наступний вигляд:\n",
        "\n",
        "$$ R^2 = 1 - \\frac{\\text{Сума квадратів залишків (SSR)}}{\\text{Загальна сума квадратів (TSS)}} $$\n",
        "\n",
        "Де:\n",
        "- **Сума квадратів залишків (SSR)**, також відома як сума квадратів різниць:\n",
        "  $$ \\text{SSR} = \\sum_{i=1}^m (y^{(i)} - \\hat{y^{(i)}})^2 $$\n",
        "  Тут $ y^{(i)} $ – це фактичне значення, а $ \\hat{y^{(i)}} $ – прогнозоване значення моделі для $ i $-го спостереження.\n",
        "\n",
        "- **Загальна сума квадратів (TSS)**, яка вимірює загальну варіативність спостережуваних даних:\n",
        "  $$ \\text{TSS} = \\sum_{i=1}^m (y^{(i)} - \\bar{y})^2 $$\n",
        "  Тут $ \\bar{y} $ – це середнє значення спостережуваних даних $ y^{(i)} $.\n",
        "\n",
        "### Інтерпретація\n",
        "- $ R^2 $ має діапазон від 0 до 1, де 0 вказує на те, що модель не пояснює жодної варіабельності реагуючих даних навколо їхнього середнього значення, а 1 вказує, що вона пояснює всю варіабельність реагуючих даних навколо їхнього середнього значення.\n",
        "- Значення $ R^2 $, близьке до 1, свідчить про гарну апроксимацію моделі.\n",
        "- Негативні значення $ R^2 $, хоча можливі в деяких випадках (наприклад, коли модель гірша за просте прогнозування середнього значення даних), зазвичай вказують на проблеми в моделі.\n",
        "\n",
        "### Скоригований $ R^2 $\n",
        "У випадках, коли використовується кілька регресорів, може бути кращим використання скоригованого $ R^2 $, який адаптує статистику на основі кількості регресорів та розміру вибірки для запобігання перенавчанню:\n",
        "$$ R^2_{\\text{скоригований}} = 1 - \\left(\\frac{(1-R^2)(m-1)}{m-k-1}\\right) $$\n",
        "Тут $ m $ – кількість спостережень, а $ k $ – кількість незалежних змінних (регресорів).\n",
        "\n",
        "\n",
        "![](https://www.datasciencecentral.com/wp-content/uploads/2021/10/2742052271.jpg)\n",
        "\n",
        "## 2. Середня квадратична помилка (MSE) і середня абсолютна помилка (MAE)\n",
        "\n",
        "**MSE** дуже чутлива до викидів, оскільки помилки підносяться до квадрату перед усередненням:\n",
        "\n",
        "$$ MSE = \\frac{1}{m} \\sum_{i=1}^{m} (y^{(i)} - \\hat{y^{(i)}})^2 $$\n",
        "\n",
        "де $ y^{(i)} $ — реальні значення, $ \\hat{y}_i $ — прогнозовані значення, $ m $ — кількість спостережень.\n",
        "\n",
        "**MAE** є менш чутливою до викидів та оцінює середню величину абсолютних помилок:\n",
        "\n",
        "$$ MAE = \\frac{1}{m} \\sum_{i=1}^{m} |y^{(i)} - \\hat{y^{(i)}}| $$\n",
        "\n",
        "## 3. Середньоквадратична логарифмічна помилка (RMSLE)\n",
        "\n",
        "**RMSLE** використовується, коли більше значення помилок при великих значеннях змінної не є бажаними. Це часто зустрічається у випадках, коли інтерес становить порядок величини:\n",
        "\n",
        "$$ RMSLE = \\sqrt{\\frac{1}{m} \\sum_{i=1}^{m} (\\log(y^{(i)} + 1) - \\log(\\hat{y^{(i)}} + 1))^2} $$\n",
        "\n",
        "## 4. Тест на статистичну значимість коефіцієнтів\n",
        "\n",
        "Застосування t-тесту для коефіцієнтів моделі дозволяє зрозуміти, чи є кожен коефіцієнт статистично значущим. Значущий коефіцієнт свідчить про те, що зміна незалежної змінної має суттєвий вплив на залежну змінну при контролі інших факторів.\n",
        "\n",
        "Доступний тест на стат значущість коефіцієнтів тут: https://www.statsmodels.org/dev/generated/statsmodels.regression.linear_model.OLS.html\n",
        "\n",
        "## 5. Діагностика залишків\n",
        "\n",
        "Аналіз резидуалів може допомогти виявити проблеми з гетероскедастичністю, автокореляцією, нелінійністю та впливом викидів. Графічний аналіз, такий як графік резидуалів проти прогнозованих значень або часу, може виявити потенційні проблеми, які потребують подальшого розгляду або коригування моделі.\n",
        "\n",
        "\n",
        "# Loss vs Evaluation metric\n",
        "\n",
        "\n",
        "**Loss function** - частина моделі. Вона впливає на те, як у моделі будуть враховуватися помилки. Щоб виконувати градієнтний спуск, ми диференціюємо Loss function. Часто хочеться, щоб Loss function була диференційована та опукла.\n",
        "\n",
        "**Метрика оцінки якості** може і збігатися з, і відрізнятися від Loss function. Метрик може бути кілька: головна і допоміжні. Вони потрібні для того, щоб оцінити якість моделі. Метрики не беруть участі в процесі оптимізації.\n",
        "\n",
        "Оцінимо якість нашої моделі, побудованої з допомогою МНК:"
      ],
      "metadata": {
        "id": "TRK60mPyFzK0"
      }
    },
    {
      "cell_type": "code",
      "source": [
        "from sklearn.metrics import mean_squared_error, mean_absolute_error, r2_score\n",
        "\n",
        "r2 = r2_score(y, predictions_MNK)\n",
        "rmse = mean_squared_error(y, predictions_MNK, squared=False)\n",
        "mae = mean_absolute_error(y, predictions_MNK)\n",
        "\n",
        "print(f\"R² score: {r2:.2f}\")\n",
        "print(f\"Root Mean Squared Error: {rmse:.2f}\")\n",
        "print(f\"Mean Absolute Error: {mae:.2f}\")"
      ],
      "metadata": {
        "id": "HW7kYO7qHRFD",
        "colab": {
          "base_uri": "https://localhost:8080/"
        },
        "outputId": "9eb4cceb-5fc1-49a7-b6db-4803d42c6bfd"
      },
      "execution_count": null,
      "outputs": [
        {
          "output_type": "stream",
          "name": "stdout",
          "text": [
            "R² score: 0.85\n",
            "Root Mean Squared Error: 17.67\n",
            "Mean Absolute Error: 14.21\n"
          ]
        }
      ]
    },
    {
      "cell_type": "code",
      "source": [
        "np.mean(y), np.std(y), np.min(y)"
      ],
      "metadata": {
        "colab": {
          "base_uri": "https://localhost:8080/"
        },
        "id": "AyuG2ilwzVVX",
        "outputId": "f76feaf5-2ead-423d-ac91-d01b9d2b24f4"
      },
      "execution_count": null,
      "outputs": [
        {
          "output_type": "execute_result",
          "data": {
            "text/plain": [
              "(1.4356078478615077, 46.11025462073194, -122.70386498880775)"
            ]
          },
          "metadata": {},
          "execution_count": 64
        }
      ]
    },
    {
      "cell_type": "markdown",
      "source": [
        "Проведемо діагностику залишків."
      ],
      "metadata": {
        "id": "tWwh8BrIJKep"
      }
    },
    {
      "cell_type": "code",
      "source": [
        "errors = y - predictions_MNK\n",
        "plt.plot(errors, 'o');"
      ],
      "metadata": {
        "id": "ojwv8kCJHsYm",
        "colab": {
          "base_uri": "https://localhost:8080/",
          "height": 430
        },
        "outputId": "7c88fc94-4474-487c-decb-d6d764a0804d"
      },
      "execution_count": null,
      "outputs": [
        {
          "output_type": "display_data",
          "data": {
            "text/plain": [
              "<Figure size 640x480 with 1 Axes>"
            ],
            "image/png": "[encoded data removed]"
          },
          "metadata": {}
        }
      ]
    },
    {
      "cell_type": "markdown",
      "source": [
        "Залишки виглядають гомоскедастично."
      ],
      "metadata": {
        "id": "UKlv6f9GIEJu"
      }
    },
    {
      "cell_type": "code",
      "source": [
        "from scipy.stats import probplot\n",
        "\n",
        "plt.figure(figsize=(12,6))\n",
        "plt.subplot(1,2,1)\n",
        "plt.hist(errors)\n",
        "plt.subplot(1,2,2)\n",
        "probplot(errors, dist='norm', plot=plt);"
      ],
      "metadata": {
        "id": "PhViJ3hKIHXa",
        "colab": {
          "base_uri": "https://localhost:8080/",
          "height": 564
        },
        "outputId": "dba65c03-f19f-498c-ac06-95fcd1230860"
      },
      "execution_count": null,
      "outputs": [
        {
          "output_type": "display_data",
          "data": {
            "text/plain": [
              "<Figure size 1200x600 with 2 Axes>"
            ],
            "image/png": "[encoded data removed]"
          },
          "metadata": {}
        }
      ]
    },
    {
      "cell_type": "markdown",
      "source": [
        "З натяжкою, але розподіл залишків близький до нормального."
      ],
      "metadata": {
        "id": "EU-X-cI8JObs"
      }
    },
    {
      "cell_type": "markdown",
      "source": [
        "# Градієнтний спуск\n",
        "\n",
        "Градієнтний спуск — це метод оптимізації, який використовується для мінімізації функцій. У випадку машинного навчання - це функція витрат.Основна ідея полягає в оновленні параметрів моделі в напрямку, який зменшує функцію втрат.\n",
        "\n",
        "## Оновлення коефіцієнтів\n",
        "\n",
        "Нехай ми маємо функцію втрат $ L(\\theta) $, де $ \\theta $ вектор параметрів моделі. Градієнтний спуск оновлює кожен параметр $ \\theta_j $ вектора параметрів за формулою:\n",
        "\n",
        "$$\n",
        "\\theta_j := \\theta_j - \\alpha \\frac{\\partial L}{\\partial \\theta_j}\n",
        "$$\n",
        "\n",
        "де:\n",
        "- $ \\alpha $ — це швидкість навчання (learning rate), яка контролює розмір кроку на кожній ітерації.\n",
        "- $ \\frac{\\partial L}{\\partial \\theta_j} $ — часткова похідна функції втрат $ L $ відносно параметра $ \\theta_j $, яка вказує напрямок найшвидшого зростання функції.\n",
        "Це оновлення вагів виконується одночасно для всіх значень $ j = 0, ..., n $, де $ n $ - кількість ознак.\n",
        "\n",
        "## Конкретно як обчислюються коефіцієнти\n",
        "\n",
        "Нагадаємо як виглядає наша кост функція\n",
        "$$ L(\\theta) = \\frac{1}{2m} \\sum_{i=1}^m (h_\\theta(x^{(i)}) - y^{(i)})^2\n",
        "\\\\\n",
        "= \\frac{1}{2m} [(h_\\theta(x^{(1)}) - y^{(1)})^2 + (h_\\theta(x^{(2)}) - y^{(2)})^2 + ... + (h_\\theta(x^{(m)}) - y^{(m)})^2]   $$\n",
        "\n",
        "де $x^{(i)}$ - це $i$-ий елемент набору даних, а\n",
        "$$ h_\\theta(x^{(i)}) = \\theta_0 + \\theta_1 x_1^{(i)} + \\theta_2 x_2^{(i)} + ... + \\theta_n x_m^{(i)} = 1 \\theta_0 + \\theta_1 x_1^{(i)} + \\theta_2 x_2^{(i)} + ... + \\theta_n x_m^{(i)} = \\sum_{i=0}^n\\theta_i x_i^{(i)}$$\n",
        "\n",
        "де $n$ - кількість ознак (колонок в даних), $m$ - кількість екземплярів даних (рядків в даних, записів).\n",
        "\n",
        "Похідна функції витрат для пари тренувального екземпляра $(x,y)$ виглядатиме так:\n",
        "$$ \\frac{\\partial L}{\\partial \\theta_j} = \\frac{\\partial }{\\partial \\theta_j}\\frac{1}{2m} (h_\\theta(x) - y)^2  $$\n",
        "\n",
        "$$ = \\frac{1}{2m} \\cdot 2 \\cdot (h_{\\theta}(x) - y) \\cdot \\frac{\\partial}{\\partial \\theta_j} (h_{\\theta}(x) - y) $$\n",
        "\n",
        "$$ = \\frac{1}{m} (h_{\\theta}(x) - y) \\cdot \\frac{\\partial}{\\partial \\theta_j} \\left( \\sum_{i=0}^n \\theta_i x_i - y \\right) $$\n",
        "\n",
        "$$ = \\frac{1}{m} (h_{\\theta}(x) - y) x_j $$\n",
        "\n",
        "Для одного тренувального прикладу тоді маємо правило оновлення вагів:\n",
        "$$ \\theta_j := \\theta_j + \\alpha (y^{(i)} - h_{\\theta}(x^{(i)})) x_j^{(i)} $$\n",
        "\n",
        "$\\alpha$ - вже містить $1/m$, адже це просто константа. Тож, насправді в цих формулах можемо опустити $1/m$.\n",
        "\n",
        "Ми вивели правило МНК, коли був лише один навчальний приклад. Є два способи змінити цей метод для навчального набору з кількох прикладів. Перший - замінити його за таким алгоритмом:\n",
        "\n",
        "$$ \\text{Повторювати до збіжності \\{ } $$\n",
        "$$ \\theta_j := \\theta_j + \\alpha \\sum_{i=1}^m (y^{(i)} - h_{\\theta}(x^{(i)})) x_j^{(i)} \\quad (\\text{для кожного } j) $$\n",
        "$$ \\} $$\n",
        "\n",
        "Цей метод переглядає кожен приклад у всьому навчальному наборі на кожному кроці та називається full batch gradient descent (\"повнопакетним\" градієнтним спуском).\n",
        "\n",
        "Візуалізувати процес градієнтного спуску можна наступним чисном\n",
        "\n",
        "![](https://miro.medium.com/v2/resize:fit:1200/format:webp/1*lYpF8xJ3TiDoq461I0AcOQ.jpeg)\n",
        "\n",
        "\n",
        "\n",
        "## Процес градієнтного спуску\n",
        "\n",
        "1. **Ініціалізація**: Спочатку параметри $ \\theta $ ініціалізуються довільно.\n",
        "2. **Розрахунок градієнту**: Обчислюється градієнт функції втрат, $ \\nabla_\\theta L $, який містить часткові похідні для всіх параметрів.\n",
        "3. **Оновлення параметрів**: Параметри оновлюються відповідно до формули оновлення.\n",
        "4. **Повторення**: Кроки 2 і 3 повторюються, поки не буде досягнуто критеріїв зупинки, таких як максимальна кількість ітерацій, мінімальна зміна функції втрат між ітераціями або задовільна точність моделі.\n",
        "\n",
        "## Візуалізація роботи градієнтного спуску\n",
        "\n",
        "![](https://miro.medium.com/v2/resize:fit:1358/1*AsfV2NelG1Ta5F-0kr727w.gif)\n",
        "\n",
        "Ще ліпше візуально зрозуміти, як працює град. спуск можна з наступним інструментом - https://github.com/lilipads/gradient_descent_viz."
      ],
      "metadata": {
        "id": "3R2qXzb41X33"
      }
    },
    {
      "cell_type": "markdown",
      "source": [
        "### Потенційні проблеми градієнтного спуску\n",
        "\n",
        "Незважаючи на гнучкість, градієнтний спуск має декілька потенційних проблем:\n",
        "- **Застрягання в локальних мінімумах**: Для нелінійних функцій втрат градієнтний спуск може застрягти в локальних мінімумах замість глобального мінімума.\n",
        "\n",
        "![](https://miro.medium.com/v2/resize:fit:1007/1*pEwSSEuZYZH2HsVdW0PGzg.png)\n",
        "- **Залежність від розміру кроку (швидкості навчання)**: Вибір надто маленького кроку може призвести до повільного навчання, тоді як надто великий крок може призвести до коливань навколо мінімуму або навіть розбіжності.\n",
        "- **Масштабування даних**: Неналежне масштабування ознак може ускладнити збіжність.\n"
      ],
      "metadata": {
        "id": "Do4mRUZ05tdB"
      }
    },
    {
      "cell_type": "code",
      "source": [
        "y_hat = b + x*m"
      ],
      "metadata": {
        "id": "LqV6Qm7j4flp"
      },
      "execution_count": null,
      "outputs": []
    },
    {
      "cell_type": "code",
      "source": [
        "# Градієнтний спуск\n",
        "def full_batch_gradient_descent(X, y, lr=0.1, epochs=100):\n",
        "    m, b = 0.0, 0.0  # Початкові параметри\n",
        "    n = len(y)\n",
        "    errors = []\n",
        "    for _ in range(epochs):\n",
        "        y_pred = m * X[:, 0] + b\n",
        "        error = y_pred - y\n",
        "        errors.append(sum(error**2))\n",
        "        m_gradient = (2/n) * np.dot(error, X[:, 0])\n",
        "        b_gradient = (2/n) * np.sum(error)\n",
        "        m = m - lr * m_gradient\n",
        "        b = b - lr * b_gradient\n",
        "    return m, b, errors\n",
        "\n",
        "m, b, errors = full_batch_gradient_descent(X, y, lr=0.1, epochs=1000)\n",
        "predictions_fbgd = m * X[:, 0] + b\n",
        "\n",
        "m, b"
      ],
      "metadata": {
        "id": "Rw9IAac78kO9",
        "colab": {
          "base_uri": "https://localhost:8080/"
        },
        "outputId": "fb178add-4c21-4c3f-ddbc-cc82299fe707"
      },
      "execution_count": null,
      "outputs": [
        {
          "output_type": "execute_result",
          "data": {
            "text/plain": [
              "(37.74666647019229, 3.8602986071568113)"
            ]
          },
          "metadata": {},
          "execution_count": 137
        }
      ]
    },
    {
      "cell_type": "code",
      "source": [
        "plt.plot(errors);"
      ],
      "metadata": {
        "id": "VdxTdyA79UgN"
      },
      "execution_count": null,
      "outputs": []
    },
    {
      "cell_type": "markdown",
      "source": [
        "Є альтернатива повнопакетному градієнтному спуску, яка також добре працює. Розглянемо наступний алгоритм:\n",
        "\n",
        "\n",
        "$ \\text{Loop till convergence \\{ } $\n",
        "\n",
        "$  \\quad \\text{for i = 1 to m},  \\{$\n",
        "\n",
        "$  \\quad \\quad \\theta_j := \\theta_j + \\alpha  (y^{(i)} - h_{\\theta}(x^{(i)})) x_j^{(i)} \\quad (\\text{для кожного } j) \\\\\n",
        "\\quad\\}$\n",
        "\n",
        "$ \\} $\n",
        "\n",
        "\n",
        "\n",
        "У цьому алгоритмі ми кілька разів проходимо через навчальний набір даних, і кожного разу, коли ми зустрічаємо навчальний приклад, ми оновлюємо параметри відповідно до градієнта помилки по відношенню до цього одного навчального прикладу. Цей алгоритм називається стохастичним градієнтним спуском (також інкрементним градієнтним спуском) - Stochastic Gradient Descent.\n",
        "\n",
        "Тоді як full-batch градієнтний спуск має просканувати весь навчальний набір перед тим, як зробити єдиний крок — обчислювально дорога операція, якщо $m$ велике — **стохастичний** градієнтний спуск може почати робити прогрес відразу ж, і продовжує робити прогрес з кожним прикладом, на який він дивиться.\n",
        "\n",
        "Часто стохастичний градієнтний спуск наближається до мінімуму набагато швидше, ніж full-batch. Щоправда варто зауважити, що він може ніколи не «збігтися» до мінімуму, і параметри продовжуватимуть осцилювати навколо мінімуму $ L(\\theta)$; але на практиці більшість значень поблизу мінімуму будуть досить гарними наближеннями до справжнього мінімуму.\n",
        "\n",
        "З цих причин, особливо коли навчальний набір великий, стохастичний градієнтний спуск часто вважається переважнішим за full-batch."
      ],
      "metadata": {
        "id": "CXMT7woiqteI"
      }
    },
    {
      "cell_type": "code",
      "source": [
        "def stochastic_gradient_descent(X, y, lr=0.1, epochs=100):\n",
        "    m, b = 0.0, 0.0  # Initial parameters\n",
        "    n = len(y)\n",
        "    for _ in range(epochs):\n",
        "        for i in range(n):\n",
        "            x_i = X[i, 0]  # Assuming X is a 2D array with one feature column\n",
        "            y_i = y[i]\n",
        "            y_pred_i = m * x_i + b\n",
        "            error_i = y_pred_i - y_i\n",
        "            m_gradient = 2 * error_i * x_i\n",
        "            b_gradient = 2 * error_i\n",
        "            m -= lr * m_gradient\n",
        "            b -= lr * b_gradient\n",
        "    return m, b\n",
        "\n",
        "m, b = stochastic_gradient_descent(X, y, lr=0.1, epochs=5000)\n",
        "predictions_sgd = m * X[:, 0] + b"
      ],
      "metadata": {
        "id": "7FCzjR2cvva9"
      },
      "execution_count": null,
      "outputs": []
    },
    {
      "cell_type": "code",
      "source": [
        "m, b"
      ],
      "metadata": {
        "colab": {
          "base_uri": "https://localhost:8080/"
        },
        "id": "L3PGxwng5fmP",
        "outputId": "fea9fce9-8fdc-4d3d-b93b-6ebe8b49522c"
      },
      "execution_count": null,
      "outputs": [
        {
          "output_type": "execute_result",
          "data": {
            "text/plain": [
              "(51.11531322853015, -0.37705521828291877)"
            ]
          },
          "metadata": {},
          "execution_count": 91
        }
      ]
    },
    {
      "cell_type": "markdown",
      "source": [
        "На практиці вам ніколи не доведеться самостійно реалізовувати жоден з вищезазначених методів. Ви можете використовувати бібліотеку, таку як `scikit-learn`, щоб зробити це за вас. До слова, sklearn реалізує саме МНК і в цьому Ви можете переконатись самостійно, звернушвшись до сорс коду\n",
        "\n",
        "https://github.com/scikit-learn/scikit-learn/blob/872124551/sklearn/linear_model/_base.py#L434"
      ],
      "metadata": {
        "id": "B5bkrDQjPu18"
      }
    },
    {
      "cell_type": "code",
      "source": [
        "!pip install scikit-learn --quiet"
      ],
      "metadata": {
        "id": "alofkHzbP2Vu"
      },
      "execution_count": null,
      "outputs": []
    },
    {
      "cell_type": "code",
      "source": [
        "from sklearn.linear_model import LinearRegression\n",
        "\n",
        "# Модель лінійної регресії засобами Scikit-learn (МНК)\n",
        "lin_reg = LinearRegression()\n"
      ],
      "metadata": {
        "id": "tXjKRRkuJWnw"
      },
      "execution_count": null,
      "outputs": []
    },
    {
      "cell_type": "code",
      "source": [
        "lin_reg"
      ],
      "metadata": {
        "colab": {
          "base_uri": "https://localhost:8080/",
          "height": 75
        },
        "id": "KXB3FEzK6y4d",
        "outputId": "cfa7a5a4-1105-4b18-a83a-4232d555a778"
      },
      "execution_count": null,
      "outputs": [
        {
          "output_type": "execute_result",
          "data": {
            "text/plain": [
              "LinearRegression()"
            ],
            "text/html": [
              "<style>#sk-container-id-4 {color: black;background-color: white;}#sk-container-id-4 pre{padding: 0;}#sk-container-id-4 div.sk-toggleable {background-color: white;}#sk-container-id-4 label.sk-toggleable__label {cursor: pointer;display: block;width: 100%;margin-bottom: 0;padding: 0.3em;box-sizing: border-box;text-align: center;}#sk-container-id-4 label.sk-toggleable__label-arrow:before {content: \"▸\";float: left;margin-right: 0.25em;color: #696969;}#sk-container-id-4 label.sk-toggleable__label-arrow:hover:before {color: black;}#sk-container-id-4 div.sk-estimator:hover label.sk-toggleable__label-arrow:before {color: black;}#sk-container-id-4 div.sk-toggleable__content {max-height: 0;max-width: 0;overflow: hidden;text-align: left;background-color: #f0f8ff;}#sk-container-id-4 div.sk-toggleable__content pre {margin: 0.2em;color: black;border-radius: 0.25em;background-color: #f0f8ff;}#sk-container-id-4 input.sk-toggleable__control:checked~div.sk-toggleable__content {max-height: 200px;max-width: 100%;overflow: auto;}#sk-container-id-4 input.sk-toggleable__control:checked~label.sk-toggleable__label-arrow:before {content: \"▾\";}#sk-container-id-4 div.sk-estimator input.sk-toggleable__control:checked~label.sk-toggleable__label {background-color: #d4ebff;}#sk-container-id-4 div.sk-label input.sk-toggleable__control:checked~label.sk-toggleable__label {background-color: #d4ebff;}#sk-container-id-4 input.sk-hidden--visually {border: 0;clip: rect(1px 1px 1px 1px);clip: rect(1px, 1px, 1px, 1px);height: 1px;margin: -1px;overflow: hidden;padding: 0;position: absolute;width: 1px;}#sk-container-id-4 div.sk-estimator {font-family: monospace;background-color: #f0f8ff;border: 1px dotted black;border-radius: 0.25em;box-sizing: border-box;margin-bottom: 0.5em;}#sk-container-id-4 div.sk-estimator:hover {background-color: #d4ebff;}#sk-container-id-4 div.sk-parallel-item::after {content: \"\";width: 100%;border-bottom: 1px solid gray;flex-grow: 1;}#sk-container-id-4 div.sk-label:hover label.sk-toggleable__label {background-color: #d4ebff;}#sk-container-id-4 div.sk-serial::before {content: \"\";position: absolute;border-left: 1px solid gray;box-sizing: border-box;top: 0;bottom: 0;left: 50%;z-index: 0;}#sk-container-id-4 div.sk-serial {display: flex;flex-direction: column;align-items: center;background-color: white;padding-right: 0.2em;padding-left: 0.2em;position: relative;}#sk-container-id-4 div.sk-item {position: relative;z-index: 1;}#sk-container-id-4 div.sk-parallel {display: flex;align-items: stretch;justify-content: center;background-color: white;position: relative;}#sk-container-id-4 div.sk-item::before, #sk-container-id-4 div.sk-parallel-item::before {content: \"\";position: absolute;border-left: 1px solid gray;box-sizing: border-box;top: 0;bottom: 0;left: 50%;z-index: -1;}#sk-container-id-4 div.sk-parallel-item {display: flex;flex-direction: column;z-index: 1;position: relative;background-color: white;}#sk-container-id-4 div.sk-parallel-item:first-child::after {align-self: flex-end;width: 50%;}#sk-container-id-4 div.sk-parallel-item:last-child::after {align-self: flex-start;width: 50%;}#sk-container-id-4 div.sk-parallel-item:only-child::after {width: 0;}#sk-container-id-4 div.sk-dashed-wrapped {border: 1px dashed gray;margin: 0 0.4em 0.5em 0.4em;box-sizing: border-box;padding-bottom: 0.4em;background-color: white;}#sk-container-id-4 div.sk-label label {font-family: monospace;font-weight: bold;display: inline-block;line-height: 1.2em;}#sk-container-id-4 div.sk-label-container {text-align: center;}#sk-container-id-4 div.sk-container {/* jupyter's `normalize.less` sets `[hidden] { display: none; }` but bootstrap.min.css set `[hidden] { display: none !important; }` so we also need the `!important` here to be able to override the default hidden behavior on the sphinx rendered scikit-learn.org. See: https://github.com/scikit-learn/scikit-learn/issues/21755 */display: inline-block !important;position: relative;}#sk-container-id-4 div.sk-text-repr-fallback {display: none;}</style><div id=\"sk-container-id-4\" class=\"sk-top-container\"><div class=\"sk-text-repr-fallback\"><pre>LinearRegression()</pre><b>In a Jupyter environment, please rerun this cell to show the HTML representation or trust the notebook. <br />On GitHub, the HTML representation is unable to render, please try loading this page with nbviewer.org.</b></div><div class=\"sk-container\" hidden><div class=\"sk-item\"><div class=\"sk-estimator sk-toggleable\"><input class=\"sk-toggleable__control sk-hidden--visually\" id=\"sk-estimator-id-4\" type=\"checkbox\" checked><label for=\"sk-estimator-id-4\" class=\"sk-toggleable__label sk-toggleable__label-arrow\">LinearRegression</label><div class=\"sk-toggleable__content\"><pre>LinearRegression()</pre></div></div></div></div></div>"
            ]
          },
          "metadata": {},
          "execution_count": 82
        }
      ]
    },
    {
      "cell_type": "code",
      "source": [
        "lin_reg.fit(X, y)"
      ],
      "metadata": {
        "colab": {
          "base_uri": "https://localhost:8080/",
          "height": 75
        },
        "id": "KvoC9haB6yOb",
        "outputId": "b3ecd64b-fb5b-4acf-f361-93e4b8fe8eaa"
      },
      "execution_count": null,
      "outputs": [
        {
          "output_type": "execute_result",
          "data": {
            "text/plain": [
              "LinearRegression()"
            ],
            "text/html": [
              "<style>#sk-container-id-5 {color: black;background-color: white;}#sk-container-id-5 pre{padding: 0;}#sk-container-id-5 div.sk-toggleable {background-color: white;}#sk-container-id-5 label.sk-toggleable__label {cursor: pointer;display: block;width: 100%;margin-bottom: 0;padding: 0.3em;box-sizing: border-box;text-align: center;}#sk-container-id-5 label.sk-toggleable__label-arrow:before {content: \"▸\";float: left;margin-right: 0.25em;color: #696969;}#sk-container-id-5 label.sk-toggleable__label-arrow:hover:before {color: black;}#sk-container-id-5 div.sk-estimator:hover label.sk-toggleable__label-arrow:before {color: black;}#sk-container-id-5 div.sk-toggleable__content {max-height: 0;max-width: 0;overflow: hidden;text-align: left;background-color: #f0f8ff;}#sk-container-id-5 div.sk-toggleable__content pre {margin: 0.2em;color: black;border-radius: 0.25em;background-color: #f0f8ff;}#sk-container-id-5 input.sk-toggleable__control:checked~div.sk-toggleable__content {max-height: 200px;max-width: 100%;overflow: auto;}#sk-container-id-5 input.sk-toggleable__control:checked~label.sk-toggleable__label-arrow:before {content: \"▾\";}#sk-container-id-5 div.sk-estimator input.sk-toggleable__control:checked~label.sk-toggleable__label {background-color: #d4ebff;}#sk-container-id-5 div.sk-label input.sk-toggleable__control:checked~label.sk-toggleable__label {background-color: #d4ebff;}#sk-container-id-5 input.sk-hidden--visually {border: 0;clip: rect(1px 1px 1px 1px);clip: rect(1px, 1px, 1px, 1px);height: 1px;margin: -1px;overflow: hidden;padding: 0;position: absolute;width: 1px;}#sk-container-id-5 div.sk-estimator {font-family: monospace;background-color: #f0f8ff;border: 1px dotted black;border-radius: 0.25em;box-sizing: border-box;margin-bottom: 0.5em;}#sk-container-id-5 div.sk-estimator:hover {background-color: #d4ebff;}#sk-container-id-5 div.sk-parallel-item::after {content: \"\";width: 100%;border-bottom: 1px solid gray;flex-grow: 1;}#sk-container-id-5 div.sk-label:hover label.sk-toggleable__label {background-color: #d4ebff;}#sk-container-id-5 div.sk-serial::before {content: \"\";position: absolute;border-left: 1px solid gray;box-sizing: border-box;top: 0;bottom: 0;left: 50%;z-index: 0;}#sk-container-id-5 div.sk-serial {display: flex;flex-direction: column;align-items: center;background-color: white;padding-right: 0.2em;padding-left: 0.2em;position: relative;}#sk-container-id-5 div.sk-item {position: relative;z-index: 1;}#sk-container-id-5 div.sk-parallel {display: flex;align-items: stretch;justify-content: center;background-color: white;position: relative;}#sk-container-id-5 div.sk-item::before, #sk-container-id-5 div.sk-parallel-item::before {content: \"\";position: absolute;border-left: 1px solid gray;box-sizing: border-box;top: 0;bottom: 0;left: 50%;z-index: -1;}#sk-container-id-5 div.sk-parallel-item {display: flex;flex-direction: column;z-index: 1;position: relative;background-color: white;}#sk-container-id-5 div.sk-parallel-item:first-child::after {align-self: flex-end;width: 50%;}#sk-container-id-5 div.sk-parallel-item:last-child::after {align-self: flex-start;width: 50%;}#sk-container-id-5 div.sk-parallel-item:only-child::after {width: 0;}#sk-container-id-5 div.sk-dashed-wrapped {border: 1px dashed gray;margin: 0 0.4em 0.5em 0.4em;box-sizing: border-box;padding-bottom: 0.4em;background-color: white;}#sk-container-id-5 div.sk-label label {font-family: monospace;font-weight: bold;display: inline-block;line-height: 1.2em;}#sk-container-id-5 div.sk-label-container {text-align: center;}#sk-container-id-5 div.sk-container {/* jupyter's `normalize.less` sets `[hidden] { display: none; }` but bootstrap.min.css set `[hidden] { display: none !important; }` so we also need the `!important` here to be able to override the default hidden behavior on the sphinx rendered scikit-learn.org. See: https://github.com/scikit-learn/scikit-learn/issues/21755 */display: inline-block !important;position: relative;}#sk-container-id-5 div.sk-text-repr-fallback {display: none;}</style><div id=\"sk-container-id-5\" class=\"sk-top-container\"><div class=\"sk-text-repr-fallback\"><pre>LinearRegression()</pre><b>In a Jupyter environment, please rerun this cell to show the HTML representation or trust the notebook. <br />On GitHub, the HTML representation is unable to render, please try loading this page with nbviewer.org.</b></div><div class=\"sk-container\" hidden><div class=\"sk-item\"><div class=\"sk-estimator sk-toggleable\"><input class=\"sk-toggleable__control sk-hidden--visually\" id=\"sk-estimator-id-5\" type=\"checkbox\" checked><label for=\"sk-estimator-id-5\" class=\"sk-toggleable__label sk-toggleable__label-arrow\">LinearRegression</label><div class=\"sk-toggleable__content\"><pre>LinearRegression()</pre></div></div></div></div></div>"
            ]
          },
          "metadata": {},
          "execution_count": 83
        }
      ]
    },
    {
      "cell_type": "code",
      "source": [
        "lin_reg.coef_, lin_reg.intercept_"
      ],
      "metadata": {
        "colab": {
          "base_uri": "https://localhost:8080/"
        },
        "id": "NFC-dXbw62pE",
        "outputId": "13e08f55-dfb3-4ccb-c4d4-417e4d0f1213"
      },
      "execution_count": null,
      "outputs": [
        {
          "output_type": "execute_result",
          "data": {
            "text/plain": [
              "(array([47.13323967]), 6.330230641053946)"
            ]
          },
          "metadata": {},
          "execution_count": 84
        }
      ]
    },
    {
      "cell_type": "code",
      "source": [
        "predictions_sklearn = lin_reg.predict(X)"
      ],
      "metadata": {
        "id": "4p6Djv-66xQS"
      },
      "execution_count": null,
      "outputs": []
    },
    {
      "cell_type": "code",
      "source": [
        "# Візуалізація результатів\n",
        "plt.figure(figsize=(12, 6))\n",
        "plt.scatter(X[:, 0], y, color='blue', label='Data points')\n",
        "plt.plot(X[:, 0], predictions_MNK, color='red', label='MNK')\n",
        "plt.plot(X[:, 0], predictions_fbgd, color='green', label='Full-batch Gradient Descent')\n",
        "plt.plot(X[:, 0], predictions_sgd, color='orange', label='Stochastic Gradient Descent')\n",
        "plt.plot(X[:, 0], predictions_sklearn, color='grey', label='Sklearn')\n",
        "plt.title('Comparison of Linear Regression and Gradient Descent')\n",
        "plt.xlabel('Значення ознаки')\n",
        "plt.ylabel('Цільове значення')\n",
        "plt.legend()\n",
        "plt.grid(True)\n",
        "plt.show()\n"
      ],
      "metadata": {
        "id": "R3k13SrsJbaS",
        "colab": {
          "base_uri": "https://localhost:8080/",
          "height": 564
        },
        "outputId": "664fee03-f6b1-4d64-b426-8d1aca40c515"
      },
      "execution_count": null,
      "outputs": [
        {
          "output_type": "display_data",
          "data": {
            "text/plain": [
              "<Figure size 1200x600 with 1 Axes>"
            ],
            "image/png": "[encoded data removed]"
          },
          "metadata": {}
        }
      ]
    },
    {
      "cell_type": "code",
      "source": [
        "print('Коефіцієнти з МНК: ', MNK_coefs)\n",
        "print('Коефіцієнти з стохаст. град. спуску: ', b, m)\n",
        "print('Коефіцієнти з sklearn: ', lin_reg.intercept_, lin_reg.coef_)"
      ],
      "metadata": {
        "id": "lFp-GkgyKOgF",
        "colab": {
          "base_uri": "https://localhost:8080/"
        },
        "outputId": "7c6d2204-4a2c-4e0a-a57e-1c2580dabab5"
      },
      "execution_count": null,
      "outputs": [
        {
          "output_type": "stream",
          "name": "stdout",
          "text": [
            "Коефіцієнти з МНК:  [ 6.33023064 47.13323967]\n",
            "Коефіцієнти з град. спуску:  -0.37705521828291877 51.11531322853015\n",
            "Коефіцієнти з sklearn:  6.330230641053946 [47.13323967]\n"
          ]
        }
      ]
    },
    {
      "cell_type": "markdown",
      "source": [
        "Як бачимо, моделі на цьому прикладі вийшли дуже однакові. Для досколаного порівняння ми зазвичай порівнюємо на метриках."
      ],
      "metadata": {
        "id": "NyWjc741K3SX"
      }
    },
    {
      "cell_type": "code",
      "source": [
        "print('RMSE МНК: ', rmse)\n",
        "\n",
        "rmse_sgd = mean_squared_error(y, predictions_sgd, squared=False)\n",
        "print('RMSE стохаст. град. спуску: ', rmse_sgd)\n",
        "\n",
        "rmse_sklearn = mean_squared_error(y, predictions_sklearn, squared=False)\n",
        "print('RMSE sklearn: ', rmse_sklearn)"
      ],
      "metadata": {
        "id": "econHPRrJsvz",
        "colab": {
          "base_uri": "https://localhost:8080/"
        },
        "outputId": "14414da4-578c-499c-f157-b1454cd40b41"
      },
      "execution_count": null,
      "outputs": [
        {
          "output_type": "stream",
          "name": "stdout",
          "text": [
            "RMSE МНК:  17.669663315551773\n",
            "RMSE стохаст. град. спуску:  19.387378890948685\n",
            "RMSE sklearn:  17.66966331555177\n"
          ]
        }
      ]
    },
    {
      "cell_type": "markdown",
      "source": [
        "# Вибір Learning rate\n",
        "\n",
        "![](https://miro.medium.com/v2/resize:fit:4800/format:webp/1*An4tZEyQAYgPAZl396JzWg.png)\n",
        "\n",
        "Вибір оптимального рівня навчання, або \"learning rate\" (швидкість навчання), для градієнтного спуску в моделях лінійної регресії є критичним, оскільки це визначає швидкість збіжності алгоритму до мінімуму функції втрат. Занадто малий learning rate може призвести до дуже повільної конвергенції, тоді як занадто великий може спричинити коливання навколо мінімуму або навіть розбіжність. Ось кілька підходів для вибору адекватного learning rate:\n",
        "\n",
        "## 1. Експериментальний підхід (\"trial and error\")\n",
        "\n",
        "Найпростіший спосіб визначення оптимального learning rate - це експериментування. Можна запустити градієнтний спуск декілька разів з різними значеннями швидкості навчання та вибрати той, який найшвидше зменшує функцію втрат без ознак розбіжності.\n",
        "\n",
        "## 2. Використання графіків зменшення втрат\n",
        "\n",
        "Метод полягає у візуалізації зміни функції втрат у залежності від кількості ітерацій при різних learning rates. Якість learning rate можна оцінити за тим, наскільки швидко функція втрат зменшується і чи відбувається стабілізація (збіжність).\n",
        "\n",
        "## 3. Learning rate decay\n",
        "\n",
        "Цей метод передбачає поступове зменшення швидкості навчання протягом тренування. Починаючи з вищого learning rate для швидкого прогресу на початку, learning rate поступово знижується, щоб допомогти алгоритму стабілізуватися близько оптимального рішення. Часто використовуються такі схеми як експоненційний decay, кроковий decay або інші адаптивні методи.\n",
        "\n",
        "## 4. Адаптивні методи оптимізації\n",
        "\n",
        "Алгоритми, такі як Adam, RMSprop або Adagrad, автоматично регулюють learning rate для кожного параметра. Ці методи забезпечують індивідуальне регулювання швидкості оновлення параметрів на основі обчислень попередніх градієнтів, що може підвищити ефективність градієнтного спуску. Про них буде в секції про нейронні мережі.\n",
        "\n"
      ],
      "metadata": {
        "id": "oW_eu1ClDYHc"
      }
    }
  ]
}