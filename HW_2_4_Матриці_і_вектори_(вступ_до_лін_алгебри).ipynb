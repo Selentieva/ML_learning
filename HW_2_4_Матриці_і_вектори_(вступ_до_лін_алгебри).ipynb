{
  "cells": [
    {
      "cell_type": "markdown",
      "metadata": {
        "id": "efug1V4CM0lT"
      },
      "source": [
        "### Завдання 1: Створення матриць та векторів\n",
        "1. Створіть `numpy` вектор `vector` розмірністю 10 з випадковими дійсними значеннями в діапазоні від 0 до 1. Можна скористатись двома альтернативними варіантами:\n",
        "  1. Генерація випадкових чисел з модулем [`random.uniform`](https://docs.python.org/3/library/random.html).\n",
        "  2. Створення вектора з допомогою метода `numpy` [np.random.rand](https://numpy.org/doc/stable/reference/random/generated/numpy.random.rand.html)\n",
        "\n",
        "2. Створіть матрицю `matrix` типу `numpy.array` розмірності 3x3 з наступними значеннями\n",
        "\n",
        "  $$\n",
        "  matrix = \\begin{bmatrix}\n",
        "  11 & 14 & 17 \\\\\n",
        "  20 & 23 & 26 \\\\\n",
        "  29 & 32 & 35\n",
        "  \\end{bmatrix}\n",
        "  $$\n",
        "\n",
        "  будь-яким відомими Вам способом.\n",
        "\n",
        "Виведіть на екран вектор і матрицю, а також їх розміри.\n"
      ]
    },
    {
      "cell_type": "code",
      "execution_count": 1,
      "metadata": {
        "id": "jxA_lG2_VIMe"
      },
      "outputs": [],
      "source": [
        "import numpy as np"
      ]
    },
    {
      "cell_type": "code",
      "execution_count": 26,
      "metadata": {},
      "outputs": [
        {
          "name": "stdout",
          "output_type": "stream",
          "text": [
            "Vector:\n",
            "[[0.50231341]\n",
            " [0.93815155]\n",
            " [0.34918285]\n",
            " [0.80956025]\n",
            " [0.93459259]\n",
            " [0.87763877]\n",
            " [0.82950747]\n",
            " [0.80394992]\n",
            " [0.38243184]\n",
            " [0.69714211]]\n",
            "Dimension - (10, 1)\n"
          ]
        }
      ],
      "source": [
        "vector = np.random.rand(10,1)\n",
        "print('Vector:')\n",
        "print(vector)\n",
        "print('Dimension -', vector.shape)"
      ]
    },
    {
      "cell_type": "code",
      "execution_count": 27,
      "metadata": {},
      "outputs": [
        {
          "name": "stdout",
          "output_type": "stream",
          "text": [
            "Matrix:\n",
            "[[11 14 17]\n",
            " [20 23 26]\n",
            " [29 32 35]]\n",
            "dimension - (3, 3)\n"
          ]
        }
      ],
      "source": [
        "matrix = np.array([[11, 14, 17],\n",
        "                   [20, 23, 26],\n",
        "                   [29, 32, 35]])\n",
        "print ('Matrix:')\n",
        "print(matrix)\n",
        "print('dimension -', matrix.shape)"
      ]
    },
    {
      "cell_type": "markdown",
      "metadata": {
        "id": "TSJ1P4OuOVe2"
      },
      "source": [
        "\n",
        "### Завдання 2: Операції над векторами та матрицями\n",
        "Виконайте кожну з зазначених операцій над зазначеними оʼєктами і виведіть результат на екран:\n",
        "1. Додайте до кожного значення вектора `vector` число 10 і округліть кожне значення до 2 знаків після коми без використання циклів.\n",
        "2. Помножте кожен елемент матриці з першого завдання на 2 без використання циклів.\n",
        "3. Створіть новий вектор, який містить квадрат кожного `vector` без циклів.\n"
      ]
    },
    {
      "cell_type": "code",
      "execution_count": 28,
      "metadata": {
        "id": "nAAojtyUVJXN"
      },
      "outputs": [
        {
          "data": {
            "text/plain": [
              "array([[10.5 ],\n",
              "       [10.94],\n",
              "       [10.35],\n",
              "       [10.81],\n",
              "       [10.93],\n",
              "       [10.88],\n",
              "       [10.83],\n",
              "       [10.8 ],\n",
              "       [10.38],\n",
              "       [10.7 ]])"
            ]
          },
          "execution_count": 28,
          "metadata": {},
          "output_type": "execute_result"
        }
      ],
      "source": [
        "add_vector= vector + 10\n",
        "np.round(add_vector, 2)"
      ]
    },
    {
      "cell_type": "code",
      "execution_count": 29,
      "metadata": {},
      "outputs": [
        {
          "name": "stdout",
          "output_type": "stream",
          "text": [
            "[[22 28 34]\n",
            " [40 46 52]\n",
            " [58 64 70]]\n"
          ]
        }
      ],
      "source": [
        "mult_matrix = 2 * matrix\n",
        "print(mult_matrix)"
      ]
    },
    {
      "cell_type": "code",
      "execution_count": 30,
      "metadata": {},
      "outputs": [
        {
          "data": {
            "text/plain": [
              "array([[0.25],\n",
              "       [0.88],\n",
              "       [0.12],\n",
              "       [0.66],\n",
              "       [0.87],\n",
              "       [0.77],\n",
              "       [0.69],\n",
              "       [0.65],\n",
              "       [0.15],\n",
              "       [0.49]])"
            ]
          },
          "execution_count": 30,
          "metadata": {},
          "output_type": "execute_result"
        }
      ],
      "source": [
        "sqrd_vector = vector ** 2\n",
        "np.round(sqrd_vector, 2)"
      ]
    },
    {
      "cell_type": "code",
      "execution_count": 31,
      "metadata": {},
      "outputs": [
        {
          "data": {
            "text/plain": [
              "array([[0.25],\n",
              "       [0.88],\n",
              "       [0.12],\n",
              "       [0.66],\n",
              "       [0.87],\n",
              "       [0.77],\n",
              "       [0.69],\n",
              "       [0.65],\n",
              "       [0.15],\n",
              "       [0.49]])"
            ]
          },
          "execution_count": 31,
          "metadata": {},
          "output_type": "execute_result"
        }
      ],
      "source": [
        "sqrd_vector_2 = np.square(vector)\n",
        "np.round(sqrd_vector_2, 2)"
      ]
    },
    {
      "cell_type": "markdown",
      "metadata": {
        "id": "u6RvWVfhPy-k"
      },
      "source": [
        "\n",
        "### Завдання 3: Множення матриць\n",
        "1. Задані дві матриці `A` і `B`розмірностями 3x2 та 2х3. Виконайте їхнє множення, щоб отримати матрицю 2x2. Виведіть результуючу матрицю `result_matrix` на екран.\n",
        "\n",
        "2. Заданий вектор `C` розмірністю 2х1. Подумайте спочатку, яку розмірність Ви отрмаєте, коли домножите `result_matrix` на вектор `C` і який результат буде. А потім виконайте множення і виведіть результат на екран.\n",
        "\n",
        "3. Задана матриця `D` розмірністю 2х2. Подумайте спочатку, яку розмірність Ви отрмаєте, коли домножите `result_matrix` на матрицю `D` і який результат буде. А потім виконайте множення і виведіть результат на екран."
      ]
    },
    {
      "cell_type": "code",
      "execution_count": 32,
      "metadata": {
        "id": "RwXfPzlbSJ44"
      },
      "outputs": [
        {
          "data": {
            "text/plain": [
              "array([[0.18, 0.53],\n",
              "       [0.75, 0.47],\n",
              "       [0.35, 0.21]])"
            ]
          },
          "metadata": {},
          "output_type": "display_data"
        },
        {
          "data": {
            "text/plain": [
              "array([[0.17, 0.58, 0.75],\n",
              "       [0.38, 0.11, 0.15]])"
            ]
          },
          "metadata": {},
          "output_type": "display_data"
        },
        {
          "data": {
            "text/plain": [
              "array([[0],\n",
              "       [1]])"
            ]
          },
          "metadata": {},
          "output_type": "display_data"
        },
        {
          "data": {
            "text/plain": [
              "array([[0, 1],\n",
              "       [1, 0]])"
            ]
          },
          "metadata": {},
          "output_type": "display_data"
        }
      ],
      "source": [
        "A = np.array(\n",
        "    [[0.18, 0.53],\n",
        "     [0.75, 0.47],\n",
        "     [0.35, 0.21]])\n",
        "\n",
        "B = np.array(\n",
        "    [[0.17, 0.58, 0.75],\n",
        "     [0.38, 0.11, 0.15]])\n",
        "\n",
        "C = np.array([[0], [1]])\n",
        "\n",
        "D = np.array([[0,1], [1,0]])\n",
        "\n",
        "display(A, B, C, D)"
      ]
    },
    {
      "cell_type": "code",
      "execution_count": 33,
      "metadata": {
        "id": "z7-boTbhVKkj"
      },
      "outputs": [
        {
          "data": {
            "text/plain": [
              "(array([[0.7281, 0.5202],\n",
              "        [0.2034, 0.2846]]),\n",
              " (2, 2))"
            ]
          },
          "execution_count": 33,
          "metadata": {},
          "output_type": "execute_result"
        }
      ],
      "source": [
        "result_matrix = np.dot(B, A)\n",
        "result_matrix, result_matrix.shape"
      ]
    },
    {
      "cell_type": "code",
      "execution_count": 34,
      "metadata": {},
      "outputs": [
        {
          "data": {
            "text/plain": [
              "(array([[0.5202],\n",
              "        [0.2846]]),\n",
              " (2, 1))"
            ]
          },
          "execution_count": 34,
          "metadata": {},
          "output_type": "execute_result"
        }
      ],
      "source": [
        "result_vector = np.dot(result_matrix, C)\n",
        "result_vector, result_vector.shape"
      ]
    },
    {
      "cell_type": "code",
      "execution_count": 35,
      "metadata": {},
      "outputs": [
        {
          "data": {
            "text/plain": [
              "(array([[0.5202, 0.7281],\n",
              "        [0.2846, 0.2034]]),\n",
              " (2, 2))"
            ]
          },
          "execution_count": 35,
          "metadata": {},
          "output_type": "execute_result"
        }
      ],
      "source": [
        "result = np.dot(result_matrix, D)\n",
        "result, result.shape"
      ]
    },
    {
      "cell_type": "markdown",
      "metadata": {
        "id": "wohp0_cxSGpl"
      },
      "source": [
        "\n",
        "### Завдання 4: Транспонування матриць\n",
        "1. Транспонуйте `result_matrix`.\n",
        "2. Зробіть транспонування вектора `vector` і виведіть форму нової структури. Чи бачите ви зміну?\n",
        "3. Використайте операцію `numpy.expand_dims` над вектором `vector` з аргументом axis=1. Запишіть отриманий результат в змінну `column_vector` і виведіть на екран. Порівняйте з `vector`.\n",
        "4. Зробіть транспонування `column_vector`, виведіть результат на екран разом з розмірностями отриманої структури.\n",
        "\n",
        "\n"
      ]
    },
    {
      "cell_type": "code",
      "execution_count": 36,
      "metadata": {
        "id": "4hFcq1baVLii"
      },
      "outputs": [
        {
          "data": {
            "text/plain": [
              "(array([[0.7281, 0.2034],\n",
              "        [0.5202, 0.2846]]),\n",
              " (2, 2))"
            ]
          },
          "execution_count": 36,
          "metadata": {},
          "output_type": "execute_result"
        }
      ],
      "source": [
        "T_result_matrix = result_matrix.T\n",
        "T_result_matrix, T_result_matrix.shape"
      ]
    },
    {
      "cell_type": "code",
      "execution_count": 37,
      "metadata": {},
      "outputs": [
        {
          "name": "stdout",
          "output_type": "stream",
          "text": [
            "[[0.50231341 0.93815155 0.34918285 0.80956025 0.93459259 0.87763877\n",
            "  0.82950747 0.80394992 0.38243184 0.69714211]]\n"
          ]
        },
        {
          "data": {
            "text/plain": [
              "(1, 10)"
            ]
          },
          "execution_count": 37,
          "metadata": {},
          "output_type": "execute_result"
        }
      ],
      "source": [
        "T_vector = vector.T\n",
        "print(T_vector)\n",
        "T_vector.shape"
      ]
    },
    {
      "cell_type": "markdown",
      "metadata": {},
      "source": [
        "після транспонування вектор-стовпчик став вектор-рядок"
      ]
    },
    {
      "cell_type": "code",
      "execution_count": 38,
      "metadata": {},
      "outputs": [
        {
          "name": "stdout",
          "output_type": "stream",
          "text": [
            "expand dims vector:\n",
            "[[[0.50231341]]\n",
            "\n",
            " [[0.93815155]]\n",
            "\n",
            " [[0.34918285]]\n",
            "\n",
            " [[0.80956025]]\n",
            "\n",
            " [[0.93459259]]\n",
            "\n",
            " [[0.87763877]]\n",
            "\n",
            " [[0.82950747]]\n",
            "\n",
            " [[0.80394992]]\n",
            "\n",
            " [[0.38243184]]\n",
            "\n",
            " [[0.69714211]]]\n",
            "(10, 1, 1)\n",
            "vector:\n",
            "[[0.50231341]\n",
            " [0.93815155]\n",
            " [0.34918285]\n",
            " [0.80956025]\n",
            " [0.93459259]\n",
            " [0.87763877]\n",
            " [0.82950747]\n",
            " [0.80394992]\n",
            " [0.38243184]\n",
            " [0.69714211]]\n",
            "(10, 1)\n"
          ]
        }
      ],
      "source": [
        "column_vector = np.expand_dims(vector, 1)\n",
        "\n",
        "print('expand dims vector:') \n",
        "print(column_vector)\n",
        "print(column_vector.shape)\n",
        "\n",
        "print('vector:')\n",
        "print(vector)\n",
        "print(vector.shape)\n"
      ]
    },
    {
      "cell_type": "markdown",
      "metadata": {},
      "source": [
        "вийшов стовпчиковий вектор column_vector"
      ]
    },
    {
      "cell_type": "code",
      "execution_count": 39,
      "metadata": {},
      "outputs": [
        {
          "data": {
            "text/plain": [
              "(array([[[0.50231341, 0.93815155, 0.34918285, 0.80956025, 0.93459259,\n",
              "          0.87763877, 0.82950747, 0.80394992, 0.38243184, 0.69714211]]]),\n",
              " (1, 1, 10))"
            ]
          },
          "execution_count": 39,
          "metadata": {},
          "output_type": "execute_result"
        }
      ],
      "source": [
        "T_column_vector = column_vector.T\n",
        "T_column_vector, T_column_vector.shape"
      ]
    }
  ],
  "metadata": {
    "colab": {
      "provenance": []
    },
    "kernelspec": {
      "display_name": "Python 3",
      "name": "python3"
    },
    "language_info": {
      "codemirror_mode": {
        "name": "ipython",
        "version": 3
      },
      "file_extension": ".py",
      "mimetype": "text/x-python",
      "name": "python",
      "nbconvert_exporter": "python",
      "pygments_lexer": "ipython3",
      "version": "3.11.7"
    }
  },
  "nbformat": 4,
  "nbformat_minor": 0
}
